{
 "cells": [
  {
   "metadata": {},
   "cell_type": "markdown",
   "source": "Add Imports",
   "id": "1abe3309f4ae1821"
  },
  {
   "cell_type": "code",
   "id": "initial_id",
   "metadata": {
    "collapsed": true,
    "ExecuteTime": {
     "end_time": "2025-04-27T01:53:08.908430Z",
     "start_time": "2025-04-27T01:53:07.827031Z"
    }
   },
   "source": [
    "from models import hog_svm_model, sift_bovw_svm_model\n",
    "from utilities import path_retrievers, model_evaluator\n",
    "import os"
   ],
   "outputs": [],
   "execution_count": 1
  },
  {
   "metadata": {},
   "cell_type": "markdown",
   "source": "Define Utilities",
   "id": "e32634091414893f"
  },
  {
   "metadata": {
    "ExecuteTime": {
     "end_time": "2025-04-27T01:53:08.915159Z",
     "start_time": "2025-04-27T01:53:08.912434Z"
    }
   },
   "cell_type": "code",
   "source": "path_retriever = path_retrievers.PathRetrievers()",
   "id": "565435dd7f445f92",
   "outputs": [],
   "execution_count": 2
  },
  {
   "metadata": {},
   "cell_type": "markdown",
   "source": "Train HOG + SVM\n",
   "id": "22512763f1b4ce1f"
  },
  {
   "metadata": {
    "ExecuteTime": {
     "end_time": "2025-04-27T01:53:28.920951Z",
     "start_time": "2025-04-27T01:53:09.014391Z"
    }
   },
   "cell_type": "code",
   "source": [
    "model = hog_svm_model.HogSvmModel()\n",
    "X, y = model.load_data(path_retriever.path_to_dataset_train_images, path_retriever.path_to_dataset_train_labels)\n",
    "model.train(X, y)\n",
    "save_path = os.path.join(path_retriever.path_to_export_trained_models, 'hog_svm_model.joblib')\n",
    "model.save_model(save_path)"
   ],
   "id": "b24e03c53372cd47",
   "outputs": [
    {
     "name": "stdout",
     "output_type": "stream",
     "text": [
      "Validation Accuracy: 0.8351\n"
     ]
    }
   ],
   "execution_count": 3
  },
  {
   "metadata": {},
   "cell_type": "markdown",
   "source": "Train Sift + BoVW",
   "id": "11fe730f648294d2"
  },
  {
   "metadata": {
    "ExecuteTime": {
     "end_time": "2025-04-27T01:53:42.557716Z",
     "start_time": "2025-04-27T01:53:28.932765Z"
    }
   },
   "cell_type": "code",
   "source": [
    "model = sift_bovw_svm_model.SiftBovwSvmModel()\n",
    "sift_descriptors = model.load_data(path_retriever.path_to_dataset_train_images, path_retriever.path_to_dataset_train_labels)\n",
    "model.train(sift_descriptors)\n",
    "save_path = os.path.join(path_retriever.path_to_export_trained_models, 'sift_bovw_svm_model.joblib')\n",
    "model.save_model(save_path)"
   ],
   "id": "2ee3b056bff353bf",
   "outputs": [
    {
     "name": "stdout",
     "output_type": "stream",
     "text": [
      "Validation Accuracy: 0.8518\n"
     ]
    }
   ],
   "execution_count": 4
  }
 ],
 "metadata": {
  "kernelspec": {
   "display_name": "Python 3",
   "language": "python",
   "name": "python3"
  },
  "language_info": {
   "codemirror_mode": {
    "name": "ipython",
    "version": 2
   },
   "file_extension": ".py",
   "mimetype": "text/x-python",
   "name": "python",
   "nbconvert_exporter": "python",
   "pygments_lexer": "ipython2",
   "version": "2.7.6"
  }
 },
 "nbformat": 4,
 "nbformat_minor": 5
}
