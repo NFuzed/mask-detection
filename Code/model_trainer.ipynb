{
 "cells": [
  {
   "metadata": {},
   "cell_type": "markdown",
   "source": "Add Imports",
   "id": "1abe3309f4ae1821"
  },
  {
   "cell_type": "code",
   "id": "initial_id",
   "metadata": {
    "collapsed": true,
    "ExecuteTime": {
     "end_time": "2025-04-27T02:40:54.771124Z",
     "start_time": "2025-04-27T02:40:52.157593Z"
    }
   },
   "source": [
    "from models import hog_svm_model, sift_bovw_svm_model,simple_cnn_model\n",
    "from utilities import path_retrievers, model_evaluator\n",
    "import os"
   ],
   "outputs": [],
   "execution_count": 1
  },
  {
   "metadata": {},
   "cell_type": "markdown",
   "source": "Define Utilities",
   "id": "e32634091414893f"
  },
  {
   "metadata": {
    "ExecuteTime": {
     "end_time": "2025-04-27T02:40:54.776443Z",
     "start_time": "2025-04-27T02:40:54.774074Z"
    }
   },
   "cell_type": "code",
   "source": "path_retriever = path_retrievers.PathRetrievers()",
   "id": "565435dd7f445f92",
   "outputs": [],
   "execution_count": 2
  },
  {
   "metadata": {},
   "cell_type": "markdown",
   "source": "Train HOG + SVM\n",
   "id": "22512763f1b4ce1f"
  },
  {
   "metadata": {
    "ExecuteTime": {
     "end_time": "2025-04-27T01:53:28.920951Z",
     "start_time": "2025-04-27T01:53:09.014391Z"
    }
   },
   "cell_type": "code",
   "source": [
    "model = hog_svm_model.HogSvmModel()\n",
    "X, y = model.load_data(path_retriever.path_to_dataset_train_images, path_retriever.path_to_dataset_train_labels)\n",
    "model.train(X, y)\n",
    "save_path = os.path.join(path_retriever.path_to_export_trained_models, 'hog_svm_model.joblib')\n",
    "model.save_model(save_path)"
   ],
   "id": "b24e03c53372cd47",
   "outputs": [
    {
     "name": "stdout",
     "output_type": "stream",
     "text": [
      "Validation Accuracy: 0.8351\n"
     ]
    }
   ],
   "execution_count": 3
  },
  {
   "metadata": {},
   "cell_type": "markdown",
   "source": "Train Sift + BoVW",
   "id": "11fe730f648294d2"
  },
  {
   "metadata": {
    "ExecuteTime": {
     "end_time": "2025-04-27T01:53:42.557716Z",
     "start_time": "2025-04-27T01:53:28.932765Z"
    }
   },
   "cell_type": "code",
   "source": [
    "model = sift_bovw_svm_model.SiftBovwSvmModel()\n",
    "sift_descriptors = model.load_data(path_retriever.path_to_dataset_train_images, path_retriever.path_to_dataset_train_labels)\n",
    "model.train(sift_descriptors)\n",
    "save_path = os.path.join(path_retriever.path_to_export_trained_models, 'sift_bovw_svm_model.joblib')\n",
    "model.save_model(save_path)"
   ],
   "id": "2ee3b056bff353bf",
   "outputs": [
    {
     "name": "stdout",
     "output_type": "stream",
     "text": [
      "Validation Accuracy: 0.8518\n"
     ]
    }
   ],
   "execution_count": 4
  },
  {
   "metadata": {},
   "cell_type": "markdown",
   "source": "Train Simple CNN",
   "id": "71b7e310abd3323b"
  },
  {
   "metadata": {
    "ExecuteTime": {
     "end_time": "2025-04-27T02:44:59.095654Z",
     "start_time": "2025-04-27T02:44:12.565088Z"
    }
   },
   "cell_type": "code",
   "source": [
    "model = simple_cnn_model.SimpleCNNModel()\n",
    "X, y = model.load_data(path_retriever.path_to_dataset_train_images, path_retriever.path_to_dataset_train_labels)\n",
    "model.train(X, y)\n",
    "save_path = os.path.join(path_retriever.path_to_export_trained_models, 'simple_cnn_model.keras')\n",
    "model.save_model(save_path)"
   ],
   "id": "8bf7e2b469a70495",
   "outputs": [
    {
     "name": "stderr",
     "output_type": "stream",
     "text": [
      "C:\\Users\\furqa\\AppData\\Local\\Programs\\Python\\Python312\\Lib\\site-packages\\keras\\src\\layers\\convolutional\\base_conv.py:107: UserWarning: Do not pass an `input_shape`/`input_dim` argument to a layer. When using Sequential models, prefer using an `Input(shape)` object as the first layer in the model instead.\n",
      "  super().__init__(activity_regularizer=activity_regularizer, **kwargs)\n"
     ]
    },
    {
     "name": "stdout",
     "output_type": "stream",
     "text": [
      "Epoch 1/10\n",
      "\u001B[1m60/60\u001B[0m \u001B[32m━━━━━━━━━━━━━━━━━━━━\u001B[0m\u001B[37m\u001B[0m \u001B[1m4s\u001B[0m 64ms/step - accuracy: 0.7944 - loss: 0.5736 - val_accuracy: 0.9207 - val_loss: 0.2749\n",
      "Epoch 2/10\n",
      "\u001B[1m60/60\u001B[0m \u001B[32m━━━━━━━━━━━━━━━━━━━━\u001B[0m\u001B[37m\u001B[0m \u001B[1m4s\u001B[0m 63ms/step - accuracy: 0.9186 - loss: 0.2645 - val_accuracy: 0.9248 - val_loss: 0.2248\n",
      "Epoch 3/10\n",
      "\u001B[1m60/60\u001B[0m \u001B[32m━━━━━━━━━━━━━━━━━━━━\u001B[0m\u001B[37m\u001B[0m \u001B[1m4s\u001B[0m 65ms/step - accuracy: 0.9297 - loss: 0.2357 - val_accuracy: 0.9290 - val_loss: 0.2072\n",
      "Epoch 4/10\n",
      "\u001B[1m60/60\u001B[0m \u001B[32m━━━━━━━━━━━━━━━━━━━━\u001B[0m\u001B[37m\u001B[0m \u001B[1m4s\u001B[0m 64ms/step - accuracy: 0.9484 - loss: 0.1744 - val_accuracy: 0.9332 - val_loss: 0.1658\n",
      "Epoch 5/10\n",
      "\u001B[1m60/60\u001B[0m \u001B[32m━━━━━━━━━━━━━━━━━━━━\u001B[0m\u001B[37m\u001B[0m \u001B[1m4s\u001B[0m 64ms/step - accuracy: 0.9517 - loss: 0.1563 - val_accuracy: 0.9353 - val_loss: 0.2027\n",
      "Epoch 6/10\n",
      "\u001B[1m60/60\u001B[0m \u001B[32m━━━━━━━━━━━━━━━━━━━━\u001B[0m\u001B[37m\u001B[0m \u001B[1m4s\u001B[0m 64ms/step - accuracy: 0.9448 - loss: 0.1528 - val_accuracy: 0.9415 - val_loss: 0.1640\n",
      "Epoch 7/10\n",
      "\u001B[1m60/60\u001B[0m \u001B[32m━━━━━━━━━━━━━━━━━━━━\u001B[0m\u001B[37m\u001B[0m \u001B[1m4s\u001B[0m 63ms/step - accuracy: 0.9464 - loss: 0.1461 - val_accuracy: 0.9248 - val_loss: 0.1856\n",
      "Epoch 8/10\n",
      "\u001B[1m60/60\u001B[0m \u001B[32m━━━━━━━━━━━━━━━━━━━━\u001B[0m\u001B[37m\u001B[0m \u001B[1m4s\u001B[0m 65ms/step - accuracy: 0.9497 - loss: 0.1473 - val_accuracy: 0.9457 - val_loss: 0.1668\n",
      "Epoch 9/10\n",
      "\u001B[1m60/60\u001B[0m \u001B[32m━━━━━━━━━━━━━━━━━━━━\u001B[0m\u001B[37m\u001B[0m \u001B[1m4s\u001B[0m 65ms/step - accuracy: 0.9474 - loss: 0.1329 - val_accuracy: 0.9436 - val_loss: 0.1613\n",
      "Epoch 10/10\n",
      "\u001B[1m60/60\u001B[0m \u001B[32m━━━━━━━━━━━━━━━━━━━━\u001B[0m\u001B[37m\u001B[0m \u001B[1m4s\u001B[0m 65ms/step - accuracy: 0.9573 - loss: 0.1218 - val_accuracy: 0.9478 - val_loss: 0.1804\n"
     ]
    }
   ],
   "execution_count": 7
  }
 ],
 "metadata": {
  "kernelspec": {
   "display_name": "Python 3",
   "language": "python",
   "name": "python3"
  },
  "language_info": {
   "codemirror_mode": {
    "name": "ipython",
    "version": 2
   },
   "file_extension": ".py",
   "mimetype": "text/x-python",
   "name": "python",
   "nbconvert_exporter": "python",
   "pygments_lexer": "ipython2",
   "version": "2.7.6"
  }
 },
 "nbformat": 4,
 "nbformat_minor": 5
}
